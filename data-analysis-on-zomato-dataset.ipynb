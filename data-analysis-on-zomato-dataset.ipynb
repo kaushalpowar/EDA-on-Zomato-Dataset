{
 "cells": [
  {
   "cell_type": "code",
   "execution_count": 1,
   "id": "442409c7",
   "metadata": {
    "_cell_guid": "b1076dfc-b9ad-4769-8c92-a6c4dae69d19",
    "_uuid": "8f2839f25d086af736a60e9eeb907d3b93b6e0e5",
    "execution": {
     "iopub.execute_input": "2022-10-04T18:11:43.125745Z",
     "iopub.status.busy": "2022-10-04T18:11:43.125101Z",
     "iopub.status.idle": "2022-10-04T18:11:43.146228Z",
     "shell.execute_reply": "2022-10-04T18:11:43.145123Z"
    },
    "papermill": {
     "duration": 0.037128,
     "end_time": "2022-10-04T18:11:43.149341",
     "exception": false,
     "start_time": "2022-10-04T18:11:43.112213",
     "status": "completed"
    },
    "tags": []
   },
   "outputs": [
    {
     "name": "stdout",
     "output_type": "stream",
     "text": [
      "/kaggle/input/zomato-dataset/zomato.csv\n"
     ]
    }
   ],
   "source": [
    "# This Python 3 environment comes with many helpful analytics libraries installed\n",
    "# It is defined by the kaggle/python Docker image: https://github.com/kaggle/docker-python\n",
    "# For example, here's several helpful packages to load\n",
    "\n",
    "import numpy as np # linear algebra\n",
    "import pandas as pd # data processing, CSV file I/O (e.g. pd.read_csv)\n",
    "\n",
    "# Input data files are available in the read-only \"../input/\" directory\n",
    "# For example, running this (by clicking run or pressing Shift+Enter) will list all files under the input directory\n",
    "\n",
    "import os\n",
    "for dirname, _, filenames in os.walk('/kaggle/input'):\n",
    "    for filename in filenames:\n",
    "        print(os.path.join(dirname, filename))\n",
    "\n",
    "# You can write up to 20GB to the current directory (/kaggle/working/) that gets preserved as output when you create a version using \"Save & Run All\" \n",
    "# You can also write temporary files to /kaggle/temp/, but they won't be saved outside of the current session"
   ]
  },
  {
   "cell_type": "code",
   "execution_count": 2,
   "id": "691e045c",
   "metadata": {
    "execution": {
     "iopub.execute_input": "2022-10-04T18:11:43.169651Z",
     "iopub.status.busy": "2022-10-04T18:11:43.169229Z",
     "iopub.status.idle": "2022-10-04T18:11:44.857952Z",
     "shell.execute_reply": "2022-10-04T18:11:44.856531Z"
    },
    "papermill": {
     "duration": 1.702049,
     "end_time": "2022-10-04T18:11:44.860886",
     "exception": false,
     "start_time": "2022-10-04T18:11:43.158837",
     "status": "completed"
    },
    "tags": []
   },
   "outputs": [],
   "source": [
    "import matplotlib.pyplot as plt\n",
    "import plotly.graph_objs as go\n",
    "import plotly.offline as py\n",
    "import seaborn as sns\n",
    "\n",
    "import matplotlib.ticker as mtick\n",
    "plt.style.use('fivethirtyeight')\n",
    "from sklearn.linear_model import LogisticRegression\n",
    "from sklearn.linear_model import LinearRegression\n",
    "from sklearn.ensemble import ExtraTreesRegressor\n",
    "from sklearn.model_selection import train_test_split\n",
    "\n",
    "import warnings\n",
    "warnings.filterwarnings('ignore')\n",
    "%matplotlib inline"
   ]
  },
  {
   "cell_type": "code",
   "execution_count": 3,
   "id": "f287d5f4",
   "metadata": {
    "execution": {
     "iopub.execute_input": "2022-10-04T18:11:44.882268Z",
     "iopub.status.busy": "2022-10-04T18:11:44.881846Z",
     "iopub.status.idle": "2022-10-04T18:11:57.502711Z",
     "shell.execute_reply": "2022-10-04T18:11:57.501409Z"
    },
    "papermill": {
     "duration": 12.634833,
     "end_time": "2022-10-04T18:11:57.505817",
     "exception": false,
     "start_time": "2022-10-04T18:11:44.870984",
     "status": "completed"
    },
    "tags": []
   },
   "outputs": [],
   "source": [
    "data = pd.read_csv('../input/zomato-dataset/zomato.csv')\n"
   ]
  },
  {
   "cell_type": "code",
   "execution_count": 4,
   "id": "b21081a9",
   "metadata": {
    "execution": {
     "iopub.execute_input": "2022-10-04T18:11:57.527998Z",
     "iopub.status.busy": "2022-10-04T18:11:57.527521Z",
     "iopub.status.idle": "2022-10-04T18:11:57.558335Z",
     "shell.execute_reply": "2022-10-04T18:11:57.557117Z"
    },
    "papermill": {
     "duration": 0.044234,
     "end_time": "2022-10-04T18:11:57.561016",
     "exception": false,
     "start_time": "2022-10-04T18:11:57.516782",
     "status": "completed"
    },
    "tags": []
   },
   "outputs": [
    {
     "data": {
      "text/html": [
       "<div>\n",
       "<style scoped>\n",
       "    .dataframe tbody tr th:only-of-type {\n",
       "        vertical-align: middle;\n",
       "    }\n",
       "\n",
       "    .dataframe tbody tr th {\n",
       "        vertical-align: top;\n",
       "    }\n",
       "\n",
       "    .dataframe thead th {\n",
       "        text-align: right;\n",
       "    }\n",
       "</style>\n",
       "<table border=\"1\" class=\"dataframe\">\n",
       "  <thead>\n",
       "    <tr style=\"text-align: right;\">\n",
       "      <th></th>\n",
       "      <th>url</th>\n",
       "      <th>address</th>\n",
       "      <th>name</th>\n",
       "      <th>online_order</th>\n",
       "      <th>book_table</th>\n",
       "      <th>rate</th>\n",
       "      <th>votes</th>\n",
       "      <th>phone</th>\n",
       "      <th>location</th>\n",
       "      <th>rest_type</th>\n",
       "      <th>dish_liked</th>\n",
       "      <th>cuisines</th>\n",
       "      <th>approx_cost(for two people)</th>\n",
       "      <th>reviews_list</th>\n",
       "      <th>menu_item</th>\n",
       "      <th>listed_in(type)</th>\n",
       "      <th>listed_in(city)</th>\n",
       "    </tr>\n",
       "  </thead>\n",
       "  <tbody>\n",
       "    <tr>\n",
       "      <th>0</th>\n",
       "      <td>https://www.zomato.com/bangalore/jalsa-banasha...</td>\n",
       "      <td>942, 21st Main Road, 2nd Stage, Banashankari, ...</td>\n",
       "      <td>Jalsa</td>\n",
       "      <td>Yes</td>\n",
       "      <td>Yes</td>\n",
       "      <td>4.1/5</td>\n",
       "      <td>775</td>\n",
       "      <td>080 42297555\\r\\n+91 9743772233</td>\n",
       "      <td>Banashankari</td>\n",
       "      <td>Casual Dining</td>\n",
       "      <td>Pasta, Lunch Buffet, Masala Papad, Paneer Laja...</td>\n",
       "      <td>North Indian, Mughlai, Chinese</td>\n",
       "      <td>800</td>\n",
       "      <td>[('Rated 4.0', 'RATED\\n  A beautiful place to ...</td>\n",
       "      <td>[]</td>\n",
       "      <td>Buffet</td>\n",
       "      <td>Banashankari</td>\n",
       "    </tr>\n",
       "    <tr>\n",
       "      <th>1</th>\n",
       "      <td>https://www.zomato.com/bangalore/spice-elephan...</td>\n",
       "      <td>2nd Floor, 80 Feet Road, Near Big Bazaar, 6th ...</td>\n",
       "      <td>Spice Elephant</td>\n",
       "      <td>Yes</td>\n",
       "      <td>No</td>\n",
       "      <td>4.1/5</td>\n",
       "      <td>787</td>\n",
       "      <td>080 41714161</td>\n",
       "      <td>Banashankari</td>\n",
       "      <td>Casual Dining</td>\n",
       "      <td>Momos, Lunch Buffet, Chocolate Nirvana, Thai G...</td>\n",
       "      <td>Chinese, North Indian, Thai</td>\n",
       "      <td>800</td>\n",
       "      <td>[('Rated 4.0', 'RATED\\n  Had been here for din...</td>\n",
       "      <td>[]</td>\n",
       "      <td>Buffet</td>\n",
       "      <td>Banashankari</td>\n",
       "    </tr>\n",
       "    <tr>\n",
       "      <th>2</th>\n",
       "      <td>https://www.zomato.com/SanchurroBangalore?cont...</td>\n",
       "      <td>1112, Next to KIMS Medical College, 17th Cross...</td>\n",
       "      <td>San Churro Cafe</td>\n",
       "      <td>Yes</td>\n",
       "      <td>No</td>\n",
       "      <td>3.8/5</td>\n",
       "      <td>918</td>\n",
       "      <td>+91 9663487993</td>\n",
       "      <td>Banashankari</td>\n",
       "      <td>Cafe, Casual Dining</td>\n",
       "      <td>Churros, Cannelloni, Minestrone Soup, Hot Choc...</td>\n",
       "      <td>Cafe, Mexican, Italian</td>\n",
       "      <td>800</td>\n",
       "      <td>[('Rated 3.0', \"RATED\\n  Ambience is not that ...</td>\n",
       "      <td>[]</td>\n",
       "      <td>Buffet</td>\n",
       "      <td>Banashankari</td>\n",
       "    </tr>\n",
       "    <tr>\n",
       "      <th>3</th>\n",
       "      <td>https://www.zomato.com/bangalore/addhuri-udupi...</td>\n",
       "      <td>1st Floor, Annakuteera, 3rd Stage, Banashankar...</td>\n",
       "      <td>Addhuri Udupi Bhojana</td>\n",
       "      <td>No</td>\n",
       "      <td>No</td>\n",
       "      <td>3.7/5</td>\n",
       "      <td>88</td>\n",
       "      <td>+91 9620009302</td>\n",
       "      <td>Banashankari</td>\n",
       "      <td>Quick Bites</td>\n",
       "      <td>Masala Dosa</td>\n",
       "      <td>South Indian, North Indian</td>\n",
       "      <td>300</td>\n",
       "      <td>[('Rated 4.0', \"RATED\\n  Great food and proper...</td>\n",
       "      <td>[]</td>\n",
       "      <td>Buffet</td>\n",
       "      <td>Banashankari</td>\n",
       "    </tr>\n",
       "    <tr>\n",
       "      <th>4</th>\n",
       "      <td>https://www.zomato.com/bangalore/grand-village...</td>\n",
       "      <td>10, 3rd Floor, Lakshmi Associates, Gandhi Baza...</td>\n",
       "      <td>Grand Village</td>\n",
       "      <td>No</td>\n",
       "      <td>No</td>\n",
       "      <td>3.8/5</td>\n",
       "      <td>166</td>\n",
       "      <td>+91 8026612447\\r\\n+91 9901210005</td>\n",
       "      <td>Basavanagudi</td>\n",
       "      <td>Casual Dining</td>\n",
       "      <td>Panipuri, Gol Gappe</td>\n",
       "      <td>North Indian, Rajasthani</td>\n",
       "      <td>600</td>\n",
       "      <td>[('Rated 4.0', 'RATED\\n  Very good restaurant ...</td>\n",
       "      <td>[]</td>\n",
       "      <td>Buffet</td>\n",
       "      <td>Banashankari</td>\n",
       "    </tr>\n",
       "  </tbody>\n",
       "</table>\n",
       "</div>"
      ],
      "text/plain": [
       "                                                 url  \\\n",
       "0  https://www.zomato.com/bangalore/jalsa-banasha...   \n",
       "1  https://www.zomato.com/bangalore/spice-elephan...   \n",
       "2  https://www.zomato.com/SanchurroBangalore?cont...   \n",
       "3  https://www.zomato.com/bangalore/addhuri-udupi...   \n",
       "4  https://www.zomato.com/bangalore/grand-village...   \n",
       "\n",
       "                                             address                   name  \\\n",
       "0  942, 21st Main Road, 2nd Stage, Banashankari, ...                  Jalsa   \n",
       "1  2nd Floor, 80 Feet Road, Near Big Bazaar, 6th ...         Spice Elephant   \n",
       "2  1112, Next to KIMS Medical College, 17th Cross...        San Churro Cafe   \n",
       "3  1st Floor, Annakuteera, 3rd Stage, Banashankar...  Addhuri Udupi Bhojana   \n",
       "4  10, 3rd Floor, Lakshmi Associates, Gandhi Baza...          Grand Village   \n",
       "\n",
       "  online_order book_table   rate  votes                             phone  \\\n",
       "0          Yes        Yes  4.1/5    775    080 42297555\\r\\n+91 9743772233   \n",
       "1          Yes         No  4.1/5    787                      080 41714161   \n",
       "2          Yes         No  3.8/5    918                    +91 9663487993   \n",
       "3           No         No  3.7/5     88                    +91 9620009302   \n",
       "4           No         No  3.8/5    166  +91 8026612447\\r\\n+91 9901210005   \n",
       "\n",
       "       location            rest_type  \\\n",
       "0  Banashankari        Casual Dining   \n",
       "1  Banashankari        Casual Dining   \n",
       "2  Banashankari  Cafe, Casual Dining   \n",
       "3  Banashankari          Quick Bites   \n",
       "4  Basavanagudi        Casual Dining   \n",
       "\n",
       "                                          dish_liked  \\\n",
       "0  Pasta, Lunch Buffet, Masala Papad, Paneer Laja...   \n",
       "1  Momos, Lunch Buffet, Chocolate Nirvana, Thai G...   \n",
       "2  Churros, Cannelloni, Minestrone Soup, Hot Choc...   \n",
       "3                                        Masala Dosa   \n",
       "4                                Panipuri, Gol Gappe   \n",
       "\n",
       "                         cuisines approx_cost(for two people)  \\\n",
       "0  North Indian, Mughlai, Chinese                         800   \n",
       "1     Chinese, North Indian, Thai                         800   \n",
       "2          Cafe, Mexican, Italian                         800   \n",
       "3      South Indian, North Indian                         300   \n",
       "4        North Indian, Rajasthani                         600   \n",
       "\n",
       "                                        reviews_list menu_item  \\\n",
       "0  [('Rated 4.0', 'RATED\\n  A beautiful place to ...        []   \n",
       "1  [('Rated 4.0', 'RATED\\n  Had been here for din...        []   \n",
       "2  [('Rated 3.0', \"RATED\\n  Ambience is not that ...        []   \n",
       "3  [('Rated 4.0', \"RATED\\n  Great food and proper...        []   \n",
       "4  [('Rated 4.0', 'RATED\\n  Very good restaurant ...        []   \n",
       "\n",
       "  listed_in(type) listed_in(city)  \n",
       "0          Buffet    Banashankari  \n",
       "1          Buffet    Banashankari  \n",
       "2          Buffet    Banashankari  \n",
       "3          Buffet    Banashankari  \n",
       "4          Buffet    Banashankari  "
      ]
     },
     "execution_count": 4,
     "metadata": {},
     "output_type": "execute_result"
    }
   ],
   "source": [
    "data.head()"
   ]
  },
  {
   "cell_type": "code",
   "execution_count": 5,
   "id": "534e8927",
   "metadata": {
    "execution": {
     "iopub.execute_input": "2022-10-04T18:11:57.582914Z",
     "iopub.status.busy": "2022-10-04T18:11:57.582485Z",
     "iopub.status.idle": "2022-10-04T18:11:57.590541Z",
     "shell.execute_reply": "2022-10-04T18:11:57.589134Z"
    },
    "papermill": {
     "duration": 0.021907,
     "end_time": "2022-10-04T18:11:57.593088",
     "exception": false,
     "start_time": "2022-10-04T18:11:57.571181",
     "status": "completed"
    },
    "tags": []
   },
   "outputs": [
    {
     "data": {
      "text/plain": [
       "Index(['url', 'address', 'name', 'online_order', 'book_table', 'rate', 'votes',\n",
       "       'phone', 'location', 'rest_type', 'dish_liked', 'cuisines',\n",
       "       'approx_cost(for two people)', 'reviews_list', 'menu_item',\n",
       "       'listed_in(type)', 'listed_in(city)'],\n",
       "      dtype='object')"
      ]
     },
     "execution_count": 5,
     "metadata": {},
     "output_type": "execute_result"
    }
   ],
   "source": [
    "data.columns"
   ]
  },
  {
   "cell_type": "code",
   "execution_count": 6,
   "id": "3dbb1f99",
   "metadata": {
    "execution": {
     "iopub.execute_input": "2022-10-04T18:11:57.615731Z",
     "iopub.status.busy": "2022-10-04T18:11:57.614930Z",
     "iopub.status.idle": "2022-10-04T18:11:57.622462Z",
     "shell.execute_reply": "2022-10-04T18:11:57.621164Z"
    },
    "papermill": {
     "duration": 0.021427,
     "end_time": "2022-10-04T18:11:57.624878",
     "exception": false,
     "start_time": "2022-10-04T18:11:57.603451",
     "status": "completed"
    },
    "tags": []
   },
   "outputs": [
    {
     "data": {
      "text/plain": [
       "(51717, 17)"
      ]
     },
     "execution_count": 6,
     "metadata": {},
     "output_type": "execute_result"
    }
   ],
   "source": [
    "data.shape"
   ]
  },
  {
   "cell_type": "code",
   "execution_count": 7,
   "id": "ce6d8f55",
   "metadata": {
    "execution": {
     "iopub.execute_input": "2022-10-04T18:11:57.646854Z",
     "iopub.status.busy": "2022-10-04T18:11:57.646399Z",
     "iopub.status.idle": "2022-10-04T18:11:57.655714Z",
     "shell.execute_reply": "2022-10-04T18:11:57.654559Z"
    },
    "papermill": {
     "duration": 0.02324,
     "end_time": "2022-10-04T18:11:57.658142",
     "exception": false,
     "start_time": "2022-10-04T18:11:57.634902",
     "status": "completed"
    },
    "tags": []
   },
   "outputs": [
    {
     "data": {
      "text/plain": [
       "url                            object\n",
       "address                        object\n",
       "name                           object\n",
       "online_order                   object\n",
       "book_table                     object\n",
       "rate                           object\n",
       "votes                           int64\n",
       "phone                          object\n",
       "location                       object\n",
       "rest_type                      object\n",
       "dish_liked                     object\n",
       "cuisines                       object\n",
       "approx_cost(for two people)    object\n",
       "reviews_list                   object\n",
       "menu_item                      object\n",
       "listed_in(type)                object\n",
       "listed_in(city)                object\n",
       "dtype: object"
      ]
     },
     "execution_count": 7,
     "metadata": {},
     "output_type": "execute_result"
    }
   ],
   "source": [
    "data.dtypes"
   ]
  },
  {
   "cell_type": "code",
   "execution_count": 8,
   "id": "a7359a7c",
   "metadata": {
    "execution": {
     "iopub.execute_input": "2022-10-04T18:11:57.681142Z",
     "iopub.status.busy": "2022-10-04T18:11:57.680727Z",
     "iopub.status.idle": "2022-10-04T18:11:57.735495Z",
     "shell.execute_reply": "2022-10-04T18:11:57.734223Z"
    },
    "papermill": {
     "duration": 0.069792,
     "end_time": "2022-10-04T18:11:57.738171",
     "exception": false,
     "start_time": "2022-10-04T18:11:57.668379",
     "status": "completed"
    },
    "tags": []
   },
   "outputs": [
    {
     "data": {
      "text/plain": [
       "url                                0\n",
       "address                            0\n",
       "name                               0\n",
       "online_order                       0\n",
       "book_table                         0\n",
       "rate                            7775\n",
       "votes                              0\n",
       "phone                           1208\n",
       "location                          21\n",
       "rest_type                        227\n",
       "dish_liked                     28078\n",
       "cuisines                          45\n",
       "approx_cost(for two people)      346\n",
       "reviews_list                       0\n",
       "menu_item                          0\n",
       "listed_in(type)                    0\n",
       "listed_in(city)                    0\n",
       "dtype: int64"
      ]
     },
     "execution_count": 8,
     "metadata": {},
     "output_type": "execute_result"
    }
   ],
   "source": [
    "data.isna().sum()"
   ]
  },
  {
   "cell_type": "code",
   "execution_count": 9,
   "id": "8668b010",
   "metadata": {
    "execution": {
     "iopub.execute_input": "2022-10-04T18:11:57.760679Z",
     "iopub.status.busy": "2022-10-04T18:11:57.760232Z",
     "iopub.status.idle": "2022-10-04T18:11:57.783122Z",
     "shell.execute_reply": "2022-10-04T18:11:57.781918Z"
    },
    "papermill": {
     "duration": 0.037337,
     "end_time": "2022-10-04T18:11:57.785905",
     "exception": false,
     "start_time": "2022-10-04T18:11:57.748568",
     "status": "completed"
    },
    "tags": []
   },
   "outputs": [],
   "source": [
    "#deleting unwanted features\n",
    "df= data.drop(['url','phone'],axis=1)"
   ]
  },
  {
   "cell_type": "code",
   "execution_count": 10,
   "id": "73f0dfd2",
   "metadata": {
    "execution": {
     "iopub.execute_input": "2022-10-04T18:11:57.809530Z",
     "iopub.status.busy": "2022-10-04T18:11:57.808351Z",
     "iopub.status.idle": "2022-10-04T18:11:59.722726Z",
     "shell.execute_reply": "2022-10-04T18:11:59.721845Z"
    },
    "papermill": {
     "duration": 1.928634,
     "end_time": "2022-10-04T18:11:59.725008",
     "exception": false,
     "start_time": "2022-10-04T18:11:57.796374",
     "status": "completed"
    },
    "tags": []
   },
   "outputs": [
    {
     "data": {
      "text/plain": [
       "43"
      ]
     },
     "execution_count": 10,
     "metadata": {},
     "output_type": "execute_result"
    }
   ],
   "source": [
    "#Checking duplicate values\n",
    "df.duplicated().sum()"
   ]
  },
  {
   "cell_type": "code",
   "execution_count": 11,
   "id": "c4b7c57c",
   "metadata": {
    "execution": {
     "iopub.execute_input": "2022-10-04T18:11:59.747606Z",
     "iopub.status.busy": "2022-10-04T18:11:59.746738Z",
     "iopub.status.idle": "2022-10-04T18:12:01.104103Z",
     "shell.execute_reply": "2022-10-04T18:12:01.102761Z"
    },
    "papermill": {
     "duration": 1.371614,
     "end_time": "2022-10-04T18:12:01.106902",
     "exception": false,
     "start_time": "2022-10-04T18:11:59.735288",
     "status": "completed"
    },
    "tags": []
   },
   "outputs": [],
   "source": [
    "df.drop_duplicates(inplace=True)"
   ]
  },
  {
   "cell_type": "code",
   "execution_count": 12,
   "id": "381fd835",
   "metadata": {
    "execution": {
     "iopub.execute_input": "2022-10-04T18:12:01.132354Z",
     "iopub.status.busy": "2022-10-04T18:12:01.131905Z",
     "iopub.status.idle": "2022-10-04T18:12:02.432290Z",
     "shell.execute_reply": "2022-10-04T18:12:02.431373Z"
    },
    "papermill": {
     "duration": 1.316195,
     "end_time": "2022-10-04T18:12:02.434791",
     "exception": false,
     "start_time": "2022-10-04T18:12:01.118596",
     "status": "completed"
    },
    "tags": []
   },
   "outputs": [
    {
     "data": {
      "text/plain": [
       "0"
      ]
     },
     "execution_count": 12,
     "metadata": {},
     "output_type": "execute_result"
    }
   ],
   "source": [
    "df.duplicated().sum()"
   ]
  },
  {
   "cell_type": "code",
   "execution_count": 13,
   "id": "7e8e881a",
   "metadata": {
    "execution": {
     "iopub.execute_input": "2022-10-04T18:12:02.459277Z",
     "iopub.status.busy": "2022-10-04T18:12:02.458118Z",
     "iopub.status.idle": "2022-10-04T18:12:02.534936Z",
     "shell.execute_reply": "2022-10-04T18:12:02.533499Z"
    },
    "papermill": {
     "duration": 0.092019,
     "end_time": "2022-10-04T18:12:02.537919",
     "exception": false,
     "start_time": "2022-10-04T18:12:02.445900",
     "status": "completed"
    },
    "tags": []
   },
   "outputs": [
    {
     "data": {
      "text/plain": [
       "address                        0\n",
       "name                           0\n",
       "online_order                   0\n",
       "book_table                     0\n",
       "rate                           0\n",
       "votes                          0\n",
       "location                       0\n",
       "rest_type                      0\n",
       "dish_liked                     0\n",
       "cuisines                       0\n",
       "approx_cost(for two people)    0\n",
       "reviews_list                   0\n",
       "menu_item                      0\n",
       "listed_in(type)                0\n",
       "listed_in(city)                0\n",
       "dtype: int64"
      ]
     },
     "execution_count": 13,
     "metadata": {},
     "output_type": "execute_result"
    }
   ],
   "source": [
    "#Drop null values\n",
    "df.dropna(how='any',inplace=True)\n",
    "df.isnull().sum()"
   ]
  },
  {
   "cell_type": "code",
   "execution_count": 14,
   "id": "fb133abf",
   "metadata": {
    "execution": {
     "iopub.execute_input": "2022-10-04T18:12:02.561475Z",
     "iopub.status.busy": "2022-10-04T18:12:02.561013Z",
     "iopub.status.idle": "2022-10-04T18:12:02.568963Z",
     "shell.execute_reply": "2022-10-04T18:12:02.567621Z"
    },
    "papermill": {
     "duration": 0.022518,
     "end_time": "2022-10-04T18:12:02.571603",
     "exception": false,
     "start_time": "2022-10-04T18:12:02.549085",
     "status": "completed"
    },
    "tags": []
   },
   "outputs": [
    {
     "data": {
      "text/plain": [
       "Index(['address', 'name', 'online_order', 'book_table', 'rate', 'votes',\n",
       "       'location', 'rest_type', 'dish_liked', 'cuisines',\n",
       "       'approx_cost(for two people)', 'reviews_list', 'menu_item',\n",
       "       'listed_in(type)', 'listed_in(city)'],\n",
       "      dtype='object')"
      ]
     },
     "execution_count": 14,
     "metadata": {},
     "output_type": "execute_result"
    }
   ],
   "source": [
    "#Renaming columes properly\n",
    "df.columns\n"
   ]
  },
  {
   "cell_type": "code",
   "execution_count": 15,
   "id": "193ff4fd",
   "metadata": {
    "execution": {
     "iopub.execute_input": "2022-10-04T18:12:02.595778Z",
     "iopub.status.busy": "2022-10-04T18:12:02.595307Z",
     "iopub.status.idle": "2022-10-04T18:12:02.609993Z",
     "shell.execute_reply": "2022-10-04T18:12:02.608728Z"
    },
    "papermill": {
     "duration": 0.030057,
     "end_time": "2022-10-04T18:12:02.612890",
     "exception": false,
     "start_time": "2022-10-04T18:12:02.582833",
     "status": "completed"
    },
    "tags": []
   },
   "outputs": [
    {
     "data": {
      "text/plain": [
       "Index(['address', 'name', 'online_order', 'book_table', 'rate', 'votes',\n",
       "       'location', 'rest_type', 'dish_liked', 'cuisines', 'cost',\n",
       "       'reviews_list', 'menu_item', ' type', 'city'],\n",
       "      dtype='object')"
      ]
     },
     "execution_count": 15,
     "metadata": {},
     "output_type": "execute_result"
    }
   ],
   "source": [
    "df=df.rename(columns={'approx_cost(for two people)':'cost','listed_in(type)': ' type','listed_in(city)':'city'})\n",
    "df.columns"
   ]
  },
  {
   "cell_type": "code",
   "execution_count": 16,
   "id": "027376ed",
   "metadata": {
    "execution": {
     "iopub.execute_input": "2022-10-04T18:12:02.638909Z",
     "iopub.status.busy": "2022-10-04T18:12:02.638465Z",
     "iopub.status.idle": "2022-10-04T18:12:02.660877Z",
     "shell.execute_reply": "2022-10-04T18:12:02.659598Z"
    },
    "papermill": {
     "duration": 0.038663,
     "end_time": "2022-10-04T18:12:02.663675",
     "exception": false,
     "start_time": "2022-10-04T18:12:02.625012",
     "status": "completed"
    },
    "tags": []
   },
   "outputs": [
    {
     "data": {
      "text/html": [
       "<div>\n",
       "<style scoped>\n",
       "    .dataframe tbody tr th:only-of-type {\n",
       "        vertical-align: middle;\n",
       "    }\n",
       "\n",
       "    .dataframe tbody tr th {\n",
       "        vertical-align: top;\n",
       "    }\n",
       "\n",
       "    .dataframe thead th {\n",
       "        text-align: right;\n",
       "    }\n",
       "</style>\n",
       "<table border=\"1\" class=\"dataframe\">\n",
       "  <thead>\n",
       "    <tr style=\"text-align: right;\">\n",
       "      <th></th>\n",
       "      <th>address</th>\n",
       "      <th>name</th>\n",
       "      <th>online_order</th>\n",
       "      <th>book_table</th>\n",
       "      <th>rate</th>\n",
       "      <th>votes</th>\n",
       "      <th>location</th>\n",
       "      <th>rest_type</th>\n",
       "      <th>dish_liked</th>\n",
       "      <th>cuisines</th>\n",
       "      <th>cost</th>\n",
       "      <th>reviews_list</th>\n",
       "      <th>menu_item</th>\n",
       "      <th>type</th>\n",
       "      <th>city</th>\n",
       "    </tr>\n",
       "  </thead>\n",
       "  <tbody>\n",
       "    <tr>\n",
       "      <th>0</th>\n",
       "      <td>942, 21st Main Road, 2nd Stage, Banashankari, ...</td>\n",
       "      <td>Jalsa</td>\n",
       "      <td>Yes</td>\n",
       "      <td>Yes</td>\n",
       "      <td>4.1/5</td>\n",
       "      <td>775</td>\n",
       "      <td>Banashankari</td>\n",
       "      <td>Casual Dining</td>\n",
       "      <td>Pasta, Lunch Buffet, Masala Papad, Paneer Laja...</td>\n",
       "      <td>North Indian, Mughlai, Chinese</td>\n",
       "      <td>800</td>\n",
       "      <td>[('Rated 4.0', 'RATED\\n  A beautiful place to ...</td>\n",
       "      <td>[]</td>\n",
       "      <td>Buffet</td>\n",
       "      <td>Banashankari</td>\n",
       "    </tr>\n",
       "    <tr>\n",
       "      <th>1</th>\n",
       "      <td>2nd Floor, 80 Feet Road, Near Big Bazaar, 6th ...</td>\n",
       "      <td>Spice Elephant</td>\n",
       "      <td>Yes</td>\n",
       "      <td>No</td>\n",
       "      <td>4.1/5</td>\n",
       "      <td>787</td>\n",
       "      <td>Banashankari</td>\n",
       "      <td>Casual Dining</td>\n",
       "      <td>Momos, Lunch Buffet, Chocolate Nirvana, Thai G...</td>\n",
       "      <td>Chinese, North Indian, Thai</td>\n",
       "      <td>800</td>\n",
       "      <td>[('Rated 4.0', 'RATED\\n  Had been here for din...</td>\n",
       "      <td>[]</td>\n",
       "      <td>Buffet</td>\n",
       "      <td>Banashankari</td>\n",
       "    </tr>\n",
       "    <tr>\n",
       "      <th>2</th>\n",
       "      <td>1112, Next to KIMS Medical College, 17th Cross...</td>\n",
       "      <td>San Churro Cafe</td>\n",
       "      <td>Yes</td>\n",
       "      <td>No</td>\n",
       "      <td>3.8/5</td>\n",
       "      <td>918</td>\n",
       "      <td>Banashankari</td>\n",
       "      <td>Cafe, Casual Dining</td>\n",
       "      <td>Churros, Cannelloni, Minestrone Soup, Hot Choc...</td>\n",
       "      <td>Cafe, Mexican, Italian</td>\n",
       "      <td>800</td>\n",
       "      <td>[('Rated 3.0', \"RATED\\n  Ambience is not that ...</td>\n",
       "      <td>[]</td>\n",
       "      <td>Buffet</td>\n",
       "      <td>Banashankari</td>\n",
       "    </tr>\n",
       "    <tr>\n",
       "      <th>3</th>\n",
       "      <td>1st Floor, Annakuteera, 3rd Stage, Banashankar...</td>\n",
       "      <td>Addhuri Udupi Bhojana</td>\n",
       "      <td>No</td>\n",
       "      <td>No</td>\n",
       "      <td>3.7/5</td>\n",
       "      <td>88</td>\n",
       "      <td>Banashankari</td>\n",
       "      <td>Quick Bites</td>\n",
       "      <td>Masala Dosa</td>\n",
       "      <td>South Indian, North Indian</td>\n",
       "      <td>300</td>\n",
       "      <td>[('Rated 4.0', \"RATED\\n  Great food and proper...</td>\n",
       "      <td>[]</td>\n",
       "      <td>Buffet</td>\n",
       "      <td>Banashankari</td>\n",
       "    </tr>\n",
       "    <tr>\n",
       "      <th>4</th>\n",
       "      <td>10, 3rd Floor, Lakshmi Associates, Gandhi Baza...</td>\n",
       "      <td>Grand Village</td>\n",
       "      <td>No</td>\n",
       "      <td>No</td>\n",
       "      <td>3.8/5</td>\n",
       "      <td>166</td>\n",
       "      <td>Basavanagudi</td>\n",
       "      <td>Casual Dining</td>\n",
       "      <td>Panipuri, Gol Gappe</td>\n",
       "      <td>North Indian, Rajasthani</td>\n",
       "      <td>600</td>\n",
       "      <td>[('Rated 4.0', 'RATED\\n  Very good restaurant ...</td>\n",
       "      <td>[]</td>\n",
       "      <td>Buffet</td>\n",
       "      <td>Banashankari</td>\n",
       "    </tr>\n",
       "  </tbody>\n",
       "</table>\n",
       "</div>"
      ],
      "text/plain": [
       "                                             address                   name  \\\n",
       "0  942, 21st Main Road, 2nd Stage, Banashankari, ...                  Jalsa   \n",
       "1  2nd Floor, 80 Feet Road, Near Big Bazaar, 6th ...         Spice Elephant   \n",
       "2  1112, Next to KIMS Medical College, 17th Cross...        San Churro Cafe   \n",
       "3  1st Floor, Annakuteera, 3rd Stage, Banashankar...  Addhuri Udupi Bhojana   \n",
       "4  10, 3rd Floor, Lakshmi Associates, Gandhi Baza...          Grand Village   \n",
       "\n",
       "  online_order book_table   rate  votes      location            rest_type  \\\n",
       "0          Yes        Yes  4.1/5    775  Banashankari        Casual Dining   \n",
       "1          Yes         No  4.1/5    787  Banashankari        Casual Dining   \n",
       "2          Yes         No  3.8/5    918  Banashankari  Cafe, Casual Dining   \n",
       "3           No         No  3.7/5     88  Banashankari          Quick Bites   \n",
       "4           No         No  3.8/5    166  Basavanagudi        Casual Dining   \n",
       "\n",
       "                                          dish_liked  \\\n",
       "0  Pasta, Lunch Buffet, Masala Papad, Paneer Laja...   \n",
       "1  Momos, Lunch Buffet, Chocolate Nirvana, Thai G...   \n",
       "2  Churros, Cannelloni, Minestrone Soup, Hot Choc...   \n",
       "3                                        Masala Dosa   \n",
       "4                                Panipuri, Gol Gappe   \n",
       "\n",
       "                         cuisines cost  \\\n",
       "0  North Indian, Mughlai, Chinese  800   \n",
       "1     Chinese, North Indian, Thai  800   \n",
       "2          Cafe, Mexican, Italian  800   \n",
       "3      South Indian, North Indian  300   \n",
       "4        North Indian, Rajasthani  600   \n",
       "\n",
       "                                        reviews_list menu_item    type  \\\n",
       "0  [('Rated 4.0', 'RATED\\n  A beautiful place to ...        []  Buffet   \n",
       "1  [('Rated 4.0', 'RATED\\n  Had been here for din...        []  Buffet   \n",
       "2  [('Rated 3.0', \"RATED\\n  Ambience is not that ...        []  Buffet   \n",
       "3  [('Rated 4.0', \"RATED\\n  Great food and proper...        []  Buffet   \n",
       "4  [('Rated 4.0', 'RATED\\n  Very good restaurant ...        []  Buffet   \n",
       "\n",
       "           city  \n",
       "0  Banashankari  \n",
       "1  Banashankari  \n",
       "2  Banashankari  \n",
       "3  Banashankari  \n",
       "4  Banashankari  "
      ]
     },
     "execution_count": 16,
     "metadata": {},
     "output_type": "execute_result"
    }
   ],
   "source": [
    "df.head()"
   ]
  },
  {
   "cell_type": "code",
   "execution_count": 17,
   "id": "8ae82672",
   "metadata": {
    "execution": {
     "iopub.execute_input": "2022-10-04T18:12:02.689467Z",
     "iopub.status.busy": "2022-10-04T18:12:02.688979Z",
     "iopub.status.idle": "2022-10-04T18:12:02.699379Z",
     "shell.execute_reply": "2022-10-04T18:12:02.698097Z"
    },
    "papermill": {
     "duration": 0.026433,
     "end_time": "2022-10-04T18:12:02.702027",
     "exception": false,
     "start_time": "2022-10-04T18:12:02.675594",
     "status": "completed"
    },
    "tags": []
   },
   "outputs": [
    {
     "data": {
      "text/plain": [
       "array(['800', '300', '600', '700', '550', '500', '450', '650', '400',\n",
       "       '750', '200', '850', '1,200', '150', '350', '250', '1,500',\n",
       "       '1,300', '1,000', '100', '900', '1,100', '1,600', '950', '230',\n",
       "       '1,700', '1,400', '1,350', '2,200', '2,000', '1,800', '1,900',\n",
       "       '180', '330', '2,500', '2,100', '3,000', '2,800', '3,400', '40',\n",
       "       '1,250', '3,500', '4,000', '2,400', '1,450', '3,200', '6,000',\n",
       "       '1,050', '4,100', '2,300', '120', '2,600', '5,000', '3,700',\n",
       "       '1,650', '2,700', '4,500'], dtype=object)"
      ]
     },
     "execution_count": 17,
     "metadata": {},
     "output_type": "execute_result"
    }
   ],
   "source": [
    "#Cleaning dataset\n",
    "df['cost'].unique()"
   ]
  },
  {
   "cell_type": "code",
   "execution_count": 18,
   "id": "61c5737a",
   "metadata": {
    "execution": {
     "iopub.execute_input": "2022-10-04T18:12:02.726722Z",
     "iopub.status.busy": "2022-10-04T18:12:02.725646Z",
     "iopub.status.idle": "2022-10-04T18:12:02.746701Z",
     "shell.execute_reply": "2022-10-04T18:12:02.745090Z"
    },
    "papermill": {
     "duration": 0.036394,
     "end_time": "2022-10-04T18:12:02.749634",
     "exception": false,
     "start_time": "2022-10-04T18:12:02.713240",
     "status": "completed"
    },
    "tags": []
   },
   "outputs": [],
   "source": [
    "#replacing the \",\" with nothing and converting the results to float¶\n",
    "df['cost']=df['cost'].apply(lambda x: x.replace(',',''))\n",
    "df['cost']= df['cost'].astype(float)"
   ]
  },
  {
   "cell_type": "code",
   "execution_count": 19,
   "id": "7cf008fd",
   "metadata": {
    "execution": {
     "iopub.execute_input": "2022-10-04T18:12:02.774136Z",
     "iopub.status.busy": "2022-10-04T18:12:02.773699Z",
     "iopub.status.idle": "2022-10-04T18:12:02.786616Z",
     "shell.execute_reply": "2022-10-04T18:12:02.785302Z"
    },
    "papermill": {
     "duration": 0.028633,
     "end_time": "2022-10-04T18:12:02.789562",
     "exception": false,
     "start_time": "2022-10-04T18:12:02.760929",
     "status": "completed"
    },
    "tags": []
   },
   "outputs": [
    {
     "name": "stdout",
     "output_type": "stream",
     "text": [
      "[ 800.  300.  600.  700.  550.  500.  450.  650.  400.  750.  200.  850.\n",
      " 1200.  150.  350.  250. 1500. 1300. 1000.  100.  900. 1100. 1600.  950.\n",
      "  230. 1700. 1400. 1350. 2200. 2000. 1800. 1900.  180.  330. 2500. 2100.\n",
      " 3000. 2800. 3400.   40. 1250. 3500. 4000. 2400. 1450. 3200. 6000. 1050.\n",
      " 4100. 2300.  120. 2600. 5000. 3700. 1650. 2700. 4500.]\n",
      "--------------------------------------------------\n"
     ]
    },
    {
     "data": {
      "text/plain": [
       "address          object\n",
       "name             object\n",
       "online_order     object\n",
       "book_table       object\n",
       "rate             object\n",
       "votes             int64\n",
       "location         object\n",
       "rest_type        object\n",
       "dish_liked       object\n",
       "cuisines         object\n",
       "cost            float64\n",
       "reviews_list     object\n",
       "menu_item        object\n",
       " type            object\n",
       "city             object\n",
       "dtype: object"
      ]
     },
     "execution_count": 19,
     "metadata": {},
     "output_type": "execute_result"
    }
   ],
   "source": [
    "print(df['cost'].unique())\n",
    "print('-----'*10)\n",
    "df.dtypes"
   ]
  },
  {
   "cell_type": "code",
   "execution_count": 20,
   "id": "b4044fec",
   "metadata": {
    "execution": {
     "iopub.execute_input": "2022-10-04T18:12:02.817630Z",
     "iopub.status.busy": "2022-10-04T18:12:02.817175Z",
     "iopub.status.idle": "2022-10-04T18:12:02.827066Z",
     "shell.execute_reply": "2022-10-04T18:12:02.825577Z"
    },
    "papermill": {
     "duration": 0.027509,
     "end_time": "2022-10-04T18:12:02.829754",
     "exception": false,
     "start_time": "2022-10-04T18:12:02.802245",
     "status": "completed"
    },
    "tags": []
   },
   "outputs": [
    {
     "data": {
      "text/plain": [
       "array(['4.1/5', '3.8/5', '3.7/5', '4.6/5', '4.0/5', '4.2/5', '3.9/5',\n",
       "       '3.0/5', '3.6/5', '2.8/5', '4.4/5', '3.1/5', '4.3/5', '2.6/5',\n",
       "       '3.3/5', '3.5/5', '3.8 /5', '3.2/5', '4.5/5', '2.5/5', '2.9/5',\n",
       "       '3.4/5', '2.7/5', '4.7/5', 'NEW', '2.4/5', '2.2/5', '2.3/5',\n",
       "       '4.8/5', '3.9 /5', '4.2 /5', '4.0 /5', '4.1 /5', '2.9 /5',\n",
       "       '2.7 /5', '2.5 /5', '2.6 /5', '4.5 /5', '4.3 /5', '3.7 /5',\n",
       "       '4.4 /5', '4.9/5', '2.1/5', '2.0/5', '1.8/5', '3.4 /5', '3.6 /5',\n",
       "       '3.3 /5', '4.6 /5', '4.9 /5', '3.2 /5', '3.0 /5', '2.8 /5',\n",
       "       '3.5 /5', '3.1 /5', '4.8 /5', '2.3 /5', '4.7 /5', '2.4 /5',\n",
       "       '2.1 /5', '2.2 /5', '2.0 /5', '1.8 /5'], dtype=object)"
      ]
     },
     "execution_count": 20,
     "metadata": {},
     "output_type": "execute_result"
    }
   ],
   "source": [
    "df['rate'].unique()"
   ]
  },
  {
   "cell_type": "code",
   "execution_count": 21,
   "id": "164a83c7",
   "metadata": {
    "execution": {
     "iopub.execute_input": "2022-10-04T18:12:02.855944Z",
     "iopub.status.busy": "2022-10-04T18:12:02.855527Z",
     "iopub.status.idle": "2022-10-04T18:12:02.872397Z",
     "shell.execute_reply": "2022-10-04T18:12:02.871390Z"
    },
    "papermill": {
     "duration": 0.033112,
     "end_time": "2022-10-04T18:12:02.875136",
     "exception": false,
     "start_time": "2022-10-04T18:12:02.842024",
     "status": "completed"
    },
    "tags": []
   },
   "outputs": [],
   "source": [
    "df = df.loc[df.rate != 'NEW']"
   ]
  },
  {
   "cell_type": "code",
   "execution_count": 22,
   "id": "cd79ea59",
   "metadata": {
    "execution": {
     "iopub.execute_input": "2022-10-04T18:12:02.902773Z",
     "iopub.status.busy": "2022-10-04T18:12:02.901893Z",
     "iopub.status.idle": "2022-10-04T18:12:02.913887Z",
     "shell.execute_reply": "2022-10-04T18:12:02.912727Z"
    },
    "papermill": {
     "duration": 0.028618,
     "end_time": "2022-10-04T18:12:02.916426",
     "exception": false,
     "start_time": "2022-10-04T18:12:02.887808",
     "status": "completed"
    },
    "tags": []
   },
   "outputs": [
    {
     "data": {
      "text/plain": [
       "array(['4.1/5', '3.8/5', '3.7/5', '4.6/5', '4.0/5', '4.2/5', '3.9/5',\n",
       "       '3.0/5', '3.6/5', '2.8/5', '4.4/5', '3.1/5', '4.3/5', '2.6/5',\n",
       "       '3.3/5', '3.5/5', '3.8 /5', '3.2/5', '4.5/5', '2.5/5', '2.9/5',\n",
       "       '3.4/5', '2.7/5', '4.7/5', '2.4/5', '2.2/5', '2.3/5', '4.8/5',\n",
       "       '3.9 /5', '4.2 /5', '4.0 /5', '4.1 /5', '2.9 /5', '2.7 /5',\n",
       "       '2.5 /5', '2.6 /5', '4.5 /5', '4.3 /5', '3.7 /5', '4.4 /5',\n",
       "       '4.9/5', '2.1/5', '2.0/5', '1.8/5', '3.4 /5', '3.6 /5', '3.3 /5',\n",
       "       '4.6 /5', '4.9 /5', '3.2 /5', '3.0 /5', '2.8 /5', '3.5 /5',\n",
       "       '3.1 /5', '4.8 /5', '2.3 /5', '4.7 /5', '2.4 /5', '2.1 /5',\n",
       "       '2.2 /5', '2.0 /5', '1.8 /5'], dtype=object)"
      ]
     },
     "execution_count": 22,
     "metadata": {},
     "output_type": "execute_result"
    }
   ],
   "source": [
    "df['rate'].unique()"
   ]
  },
  {
   "cell_type": "code",
   "execution_count": 23,
   "id": "b76ccbdc",
   "metadata": {
    "execution": {
     "iopub.execute_input": "2022-10-04T18:12:02.943530Z",
     "iopub.status.busy": "2022-10-04T18:12:02.942656Z",
     "iopub.status.idle": "2022-10-04T18:12:02.957714Z",
     "shell.execute_reply": "2022-10-04T18:12:02.956517Z"
    },
    "papermill": {
     "duration": 0.032004,
     "end_time": "2022-10-04T18:12:02.960586",
     "exception": false,
     "start_time": "2022-10-04T18:12:02.928582",
     "status": "completed"
    },
    "tags": []
   },
   "outputs": [],
   "source": [
    "df['rate'] = df['rate'].apply(lambda x: x.replace('/5',''))"
   ]
  },
  {
   "cell_type": "code",
   "execution_count": 24,
   "id": "c456ca42",
   "metadata": {
    "execution": {
     "iopub.execute_input": "2022-10-04T18:12:02.986968Z",
     "iopub.status.busy": "2022-10-04T18:12:02.986506Z",
     "iopub.status.idle": "2022-10-04T18:12:02.996409Z",
     "shell.execute_reply": "2022-10-04T18:12:02.994853Z"
    },
    "papermill": {
     "duration": 0.026225,
     "end_time": "2022-10-04T18:12:02.999054",
     "exception": false,
     "start_time": "2022-10-04T18:12:02.972829",
     "status": "completed"
    },
    "tags": []
   },
   "outputs": [
    {
     "data": {
      "text/plain": [
       "array(['4.1', '3.8', '3.7', '4.6', '4.0', '4.2', '3.9', '3.0', '3.6',\n",
       "       '2.8', '4.4', '3.1', '4.3', '2.6', '3.3', '3.5', '3.8 ', '3.2',\n",
       "       '4.5', '2.5', '2.9', '3.4', '2.7', '4.7', '2.4', '2.2', '2.3',\n",
       "       '4.8', '3.9 ', '4.2 ', '4.0 ', '4.1 ', '2.9 ', '2.7 ', '2.5 ',\n",
       "       '2.6 ', '4.5 ', '4.3 ', '3.7 ', '4.4 ', '4.9', '2.1', '2.0', '1.8',\n",
       "       '3.4 ', '3.6 ', '3.3 ', '4.6 ', '4.9 ', '3.2 ', '3.0 ', '2.8 ',\n",
       "       '3.5 ', '3.1 ', '4.8 ', '2.3 ', '4.7 ', '2.4 ', '2.1 ', '2.2 ',\n",
       "       '2.0 ', '1.8 '], dtype=object)"
      ]
     },
     "execution_count": 24,
     "metadata": {},
     "output_type": "execute_result"
    }
   ],
   "source": [
    "df['rate'].unique()"
   ]
  },
  {
   "cell_type": "code",
   "execution_count": 25,
   "id": "112356bb",
   "metadata": {
    "execution": {
     "iopub.execute_input": "2022-10-04T18:12:03.025976Z",
     "iopub.status.busy": "2022-10-04T18:12:03.024714Z",
     "iopub.status.idle": "2022-10-04T18:12:03.487834Z",
     "shell.execute_reply": "2022-10-04T18:12:03.486476Z"
    },
    "papermill": {
     "duration": 0.479132,
     "end_time": "2022-10-04T18:12:03.490360",
     "exception": false,
     "start_time": "2022-10-04T18:12:03.011228",
     "status": "completed"
    },
    "tags": []
   },
   "outputs": [
    {
     "data": {
      "text/plain": [
       "<AxesSubplot:xlabel='name'>"
      ]
     },
     "execution_count": 25,
     "metadata": {},
     "output_type": "execute_result"
    },
    {
     "data": {
      "image/png": "[encoded data removed]",
      "text/plain": [
       "<Figure size 1224x720 with 1 Axes>"
      ]
     },
     "metadata": {
      "needs_background": "light"
     },
     "output_type": "display_data"
    }
   ],
   "source": [
    "#Visualization\n",
    "plt.figure(figsize=(17,10))\n",
    "chains = df['name'].value_counts()[0:20]\n",
    "sns.barplot(x=chains,y=chains.index,palette='colorblind')"
   ]
  },
  {
   "cell_type": "code",
   "execution_count": 26,
   "id": "3a41dd59",
   "metadata": {
    "execution": {
     "iopub.execute_input": "2022-10-04T18:12:03.517566Z",
     "iopub.status.busy": "2022-10-04T18:12:03.517146Z",
     "iopub.status.idle": "2022-10-04T18:12:03.750884Z",
     "shell.execute_reply": "2022-10-04T18:12:03.749607Z"
    },
    "papermill": {
     "duration": 0.250766,
     "end_time": "2022-10-04T18:12:03.753964",
     "exception": false,
     "start_time": "2022-10-04T18:12:03.503198",
     "status": "completed"
    },
    "tags": []
   },
   "outputs": [
    {
     "data": {
      "image/png": "[encoded data removed]",
      "text/plain": [
       "<Figure size 720x720 with 1 Axes>"
      ]
     },
     "metadata": {
      "needs_background": "light"
     },
     "output_type": "display_data"
    }
   ],
   "source": [
    "#Restaurants deliver online or not\n",
    "sns.countplot(df['online_order'])\n",
    "fig=plt.gcf()\n",
    "fig.set_size_inches(10,10)\n",
    "plt.title('Whether Restaurants deliver online or Not')\n",
    "plt.show()\n",
    "\n"
   ]
  },
  {
   "cell_type": "markdown",
   "id": "637c6bf2",
   "metadata": {
    "papermill": {
     "duration": 0.012743,
     "end_time": "2022-10-04T18:12:03.780439",
     "exception": false,
     "start_time": "2022-10-04T18:12:03.767696",
     "status": "completed"
    },
    "tags": []
   },
   "source": [
    "Insight- Most restaurants offer online food delivery"
   ]
  },
  {
   "cell_type": "code",
   "execution_count": 27,
   "id": "9ee86cba",
   "metadata": {
    "execution": {
     "iopub.execute_input": "2022-10-04T18:12:03.809860Z",
     "iopub.status.busy": "2022-10-04T18:12:03.809393Z",
     "iopub.status.idle": "2022-10-04T18:12:04.307512Z",
     "shell.execute_reply": "2022-10-04T18:12:04.306017Z"
    },
    "papermill": {
     "duration": 0.516356,
     "end_time": "2022-10-04T18:12:04.310435",
     "exception": false,
     "start_time": "2022-10-04T18:12:03.794079",
     "status": "completed"
    },
    "tags": []
   },
   "outputs": [
    {
     "data": {
      "text/plain": [
       "<AxesSubplot:xlabel='rate', ylabel='Density'>"
      ]
     },
     "execution_count": 27,
     "metadata": {},
     "output_type": "execute_result"
    },
    {
     "data": {
      "image/png": "[encoded data removed]",
      "text/plain": [
       "<Figure size 648x504 with 1 Axes>"
      ]
     },
     "metadata": {
      "needs_background": "light"
     },
     "output_type": "display_data"
    }
   ],
   "source": [
    "#Rating Distributions\n",
    "plt.figure(figsize=(9,7))\n",
    "sns.distplot(df['rate'],bins=20)"
   ]
  },
  {
   "cell_type": "markdown",
   "id": "3a170e01",
   "metadata": {
    "papermill": {
     "duration": 0.012781,
     "end_time": "2022-10-04T18:12:04.336932",
     "exception": false,
     "start_time": "2022-10-04T18:12:04.324151",
     "status": "completed"
    },
    "tags": []
   },
   "source": [
    "Insight- Most rating are between 3.5 to 4.5"
   ]
  },
  {
   "cell_type": "code",
   "execution_count": 28,
   "id": "5c9b83b6",
   "metadata": {
    "execution": {
     "iopub.execute_input": "2022-10-04T18:12:04.367111Z",
     "iopub.status.busy": "2022-10-04T18:12:04.365753Z",
     "iopub.status.idle": "2022-10-04T18:12:04.383818Z",
     "shell.execute_reply": "2022-10-04T18:12:04.382070Z"
    },
    "papermill": {
     "duration": 0.036737,
     "end_time": "2022-10-04T18:12:04.387454",
     "exception": false,
     "start_time": "2022-10-04T18:12:04.350717",
     "status": "completed"
    },
    "tags": []
   },
   "outputs": [],
   "source": [
    "df['rate']=df['rate'].astype(float)"
   ]
  },
  {
   "cell_type": "code",
   "execution_count": 29,
   "id": "57979fce",
   "metadata": {
    "execution": {
     "iopub.execute_input": "2022-10-04T18:12:04.418180Z",
     "iopub.status.busy": "2022-10-04T18:12:04.417710Z",
     "iopub.status.idle": "2022-10-04T18:12:04.660257Z",
     "shell.execute_reply": "2022-10-04T18:12:04.659094Z"
    },
    "papermill": {
     "duration": 0.261235,
     "end_time": "2022-10-04T18:12:04.662909",
     "exception": false,
     "start_time": "2022-10-04T18:12:04.401674",
     "status": "completed"
    },
    "tags": []
   },
   "outputs": [
    {
     "data": {
      "image/png": "[encoded data removed]",
      "text/plain": [
       "<Figure size 720x720 with 1 Axes>"
      ]
     },
     "metadata": {},
     "output_type": "display_data"
    }
   ],
   "source": [
    "slices=[((df['rate']>=1) & (df['rate']<2)).sum(),\n",
    "        ((df['rate']>=2) & (df['rate']<3)).sum(),\n",
    "        ((df['rate']>=3) & (df['rate']<4)).sum(),\n",
    "        (df['rate']>=4).sum()\n",
    "        ]\n",
    "\n",
    "labels=['1<rate<2','2<rate<3','3<rate<4','>4']\n",
    "colors = ['#ff3333','#c2c2d6','#6699ff']\n",
    "plt.pie(slices,colors=colors, labels=labels, autopct='%1.0f%%', pctdistance=.5, labeldistance=1.2,shadow=True)\n",
    "fig = plt.gcf()\n",
    "plt.title(\"Percentage of Restaurants according to their ratings\")\n",
    "\n",
    "fig.set_size_inches(10,10)\n",
    "plt.show()"
   ]
  },
  {
   "cell_type": "code",
   "execution_count": 30,
   "id": "67a81526",
   "metadata": {
    "execution": {
     "iopub.execute_input": "2022-10-04T18:12:04.693921Z",
     "iopub.status.busy": "2022-10-04T18:12:04.693110Z",
     "iopub.status.idle": "2022-10-04T18:12:05.192623Z",
     "shell.execute_reply": "2022-10-04T18:12:05.191201Z"
    },
    "papermill": {
     "duration": 0.517949,
     "end_time": "2022-10-04T18:12:05.195675",
     "exception": false,
     "start_time": "2022-10-04T18:12:04.677726",
     "status": "completed"
    },
    "tags": []
   },
   "outputs": [
    {
     "data": {
      "image/png": "[encoded data removed]",
      "text/plain": [
       "<Figure size 576x576 with 1 Axes>"
      ]
     },
     "metadata": {
      "needs_background": "light"
     },
     "output_type": "display_data"
    }
   ],
   "source": [
    "#Distribution on charges\n",
    "plt.figure(figsize=(8,8))\n",
    "sns.distplot(df['cost'])\n",
    "plt.show()"
   ]
  },
  {
   "cell_type": "code",
   "execution_count": 31,
   "id": "94fbc3aa",
   "metadata": {
    "execution": {
     "iopub.execute_input": "2022-10-04T18:12:05.228562Z",
     "iopub.status.busy": "2022-10-04T18:12:05.228126Z",
     "iopub.status.idle": "2022-10-04T18:12:05.461780Z",
     "shell.execute_reply": "2022-10-04T18:12:05.460289Z"
    },
    "papermill": {
     "duration": 0.253791,
     "end_time": "2022-10-04T18:12:05.464747",
     "exception": false,
     "start_time": "2022-10-04T18:12:05.210956",
     "status": "completed"
    },
    "tags": []
   },
   "outputs": [],
   "source": [
    "#Most Liked Dishes\n",
    "import re\n",
    "\n",
    "df.index=range(df.shape[0])\n",
    "likes=[]\n",
    "for i in range(df.shape[0]):\n",
    "    array_split=re.split(',',df['dish_liked'][i])\n",
    "    for item in array_split:\n",
    "        likes.append(item)"
   ]
  },
  {
   "cell_type": "code",
   "execution_count": 32,
   "id": "d5689372",
   "metadata": {
    "execution": {
     "iopub.execute_input": "2022-10-04T18:12:05.497190Z",
     "iopub.status.busy": "2022-10-04T18:12:05.495980Z",
     "iopub.status.idle": "2022-10-04T18:12:05.501737Z",
     "shell.execute_reply": "2022-10-04T18:12:05.500740Z"
    },
    "papermill": {
     "duration": 0.024357,
     "end_time": "2022-10-04T18:12:05.504161",
     "exception": false,
     "start_time": "2022-10-04T18:12:05.479804",
     "status": "completed"
    },
    "tags": []
   },
   "outputs": [],
   "source": [
    "df.index=range(df.shape[0])\n"
   ]
  },
  {
   "cell_type": "code",
   "execution_count": 33,
   "id": "a7c20a80",
   "metadata": {
    "execution": {
     "iopub.execute_input": "2022-10-04T18:12:05.536760Z",
     "iopub.status.busy": "2022-10-04T18:12:05.536024Z",
     "iopub.status.idle": "2022-10-04T18:12:05.542033Z",
     "shell.execute_reply": "2022-10-04T18:12:05.541178Z"
    },
    "papermill": {
     "duration": 0.02509,
     "end_time": "2022-10-04T18:12:05.544574",
     "exception": false,
     "start_time": "2022-10-04T18:12:05.519484",
     "status": "completed"
    },
    "tags": []
   },
   "outputs": [
    {
     "data": {
      "text/plain": [
       "RangeIndex(start=0, stop=23248, step=1)"
      ]
     },
     "execution_count": 33,
     "metadata": {},
     "output_type": "execute_result"
    }
   ],
   "source": [
    "df.index\n"
   ]
  },
  {
   "cell_type": "code",
   "execution_count": 34,
   "id": "575b0b2b",
   "metadata": {
    "execution": {
     "iopub.execute_input": "2022-10-04T18:12:05.576149Z",
     "iopub.status.busy": "2022-10-04T18:12:05.575503Z",
     "iopub.status.idle": "2022-10-04T18:12:05.608889Z",
     "shell.execute_reply": "2022-10-04T18:12:05.607686Z"
    },
    "papermill": {
     "duration": 0.052147,
     "end_time": "2022-10-04T18:12:05.611238",
     "exception": false,
     "start_time": "2022-10-04T18:12:05.559091",
     "status": "completed"
    },
    "tags": []
   },
   "outputs": [
    {
     "name": "stdout",
     "output_type": "stream",
     "text": [
      "Count of Most liked dishes in Bangalore city\n"
     ]
    },
    {
     "data": {
      "text/plain": [
       " Pasta              2692\n",
       " Pizza              1915\n",
       " Cocktails          1880\n",
       " Burgers            1736\n",
       " Mocktails          1623\n",
       " Biryani            1307\n",
       " Sandwiches         1287\n",
       "Burgers             1256\n",
       " Coffee             1184\n",
       " Nachos             1170\n",
       " Fish               1116\n",
       " Paratha            1107\n",
       " Salads             1055\n",
       " Chicken Biryani    1004\n",
       "Cocktails            891\n",
       " Fries               876\n",
       " Noodles             854\n",
       " Beer                835\n",
       " Mutton Biryani      832\n",
       " Tea                 819\n",
       "Coffee               801\n",
       " Sandwich            788\n",
       " Butter Chicken      782\n",
       " Thali               770\n",
       "Biryani              749\n",
       "Pizza                747\n",
       " Roti                729\n",
       " Brownie             726\n",
       " Salad               677\n",
       " Hot Chocolate       672\n",
       " Momos               658\n",
       "Pasta                657\n",
       " Chicken Curry       640\n",
       " Dal Makhani         633\n",
       " Chaat               611\n",
       "dtype: int64"
      ]
     },
     "execution_count": 34,
     "metadata": {},
     "output_type": "execute_result"
    }
   ],
   "source": [
    "print(\"Count of Most liked dishes in Bangalore city\")\n",
    "favourite_food = pd.Series(likes).value_counts()\n",
    "favourite_food.head(35)"
   ]
  },
  {
   "cell_type": "code",
   "execution_count": 35,
   "id": "91297144",
   "metadata": {
    "execution": {
     "iopub.execute_input": "2022-10-04T18:12:05.645283Z",
     "iopub.status.busy": "2022-10-04T18:12:05.644610Z",
     "iopub.status.idle": "2022-10-04T18:12:06.147065Z",
     "shell.execute_reply": "2022-10-04T18:12:06.146205Z"
    },
    "papermill": {
     "duration": 0.52293,
     "end_time": "2022-10-04T18:12:06.149536",
     "exception": false,
     "start_time": "2022-10-04T18:12:05.626606",
     "status": "completed"
    },
    "tags": []
   },
   "outputs": [
    {
     "data": {
      "image/png": "[encoded data removed]",
      "text/plain": [
       "<Figure size 1296x720 with 1 Axes>"
      ]
     },
     "metadata": {
      "needs_background": "light"
     },
     "output_type": "display_data"
    }
   ],
   "source": [
    "ax = favourite_food.nlargest(n=20, keep='first').plot(kind='bar',figsize=(18,10),title = 'Top 20 Favourite Food counts ')\n",
    "\n",
    "for i in ax.patches:\n",
    "    ax.annotate(str(i.get_height()), (i.get_x() * 1.005, i.get_height() * 1.005))\n"
   ]
  },
  {
   "cell_type": "markdown",
   "id": "6c24a378",
   "metadata": {
    "papermill": {
     "duration": 0.015702,
     "end_time": "2022-10-04T18:12:06.181154",
     "exception": false,
     "start_time": "2022-10-04T18:12:06.165452",
     "status": "completed"
    },
    "tags": []
   },
   "source": [
    "Insight- Top 5 most sold dishes are Pasta, Pizza, Cocktail, Burgers, Mocktails "
   ]
  },
  {
   "cell_type": "code",
   "execution_count": 36,
   "id": "9c6b6136",
   "metadata": {
    "execution": {
     "iopub.execute_input": "2022-10-04T18:12:06.217038Z",
     "iopub.status.busy": "2022-10-04T18:12:06.215963Z",
     "iopub.status.idle": "2022-10-04T18:12:06.619410Z",
     "shell.execute_reply": "2022-10-04T18:12:06.617900Z"
    },
    "papermill": {
     "duration": 0.423871,
     "end_time": "2022-10-04T18:12:06.622129",
     "exception": false,
     "start_time": "2022-10-04T18:12:06.198258",
     "status": "completed"
    },
    "tags": []
   },
   "outputs": [
    {
     "data": {
      "text/plain": [
       "Text(0.5, 0, 'Number of outlets')"
      ]
     },
     "execution_count": 36,
     "metadata": {},
     "output_type": "execute_result"
    },
    {
     "data": {
      "image/png": "[encoded data removed]",
      "text/plain": [
       "<Figure size 648x504 with 1 Axes>"
      ]
     },
     "metadata": {
      "needs_background": "light"
     },
     "output_type": "display_data"
    }
   ],
   "source": [
    "plt.figure(figsize=(9,7))\n",
    "chains = df['name'].value_counts()[0:20]\n",
    "sns.barplot(x=chains, y=chains.index, palette = 'colorblind')\n",
    "plt.title(\"Most famous restaurents in Banglore\",size=20, pad=20)\n",
    "plt.xlabel(\"Number of outlets\", size=15)"
   ]
  },
  {
   "cell_type": "markdown",
   "id": "93f701bf",
   "metadata": {
    "papermill": {
     "duration": 0.015304,
     "end_time": "2022-10-04T18:12:06.654812",
     "exception": false,
     "start_time": "2022-10-04T18:12:06.639508",
     "status": "completed"
    },
    "tags": []
   },
   "source": [
    "Insight - Onesta is most famous restaurent chain in Banglore"
   ]
  },
  {
   "cell_type": "code",
   "execution_count": null,
   "id": "b1df11ca",
   "metadata": {
    "papermill": {
     "duration": 0.015614,
     "end_time": "2022-10-04T18:12:06.686018",
     "exception": false,
     "start_time": "2022-10-04T18:12:06.670404",
     "status": "completed"
    },
    "tags": []
   },
   "outputs": [],
   "source": []
  }
 ],
 "metadata": {
  "kernelspec": {
   "display_name": "Python 3",
   "language": "python",
   "name": "python3"
  },
  "language_info": {
   "codemirror_mode": {
    "name": "ipython",
    "version": 3
   },
   "file_extension": ".py",
   "mimetype": "text/x-python",
   "name": "python",
   "nbconvert_exporter": "python",
   "pygments_lexer": "ipython3",
   "version": "3.7.12"
  },
  "papermill": {
   "default_parameters": {},
   "duration": 34.025405,
   "end_time": "2022-10-04T18:12:07.625781",
   "environment_variables": {},
   "exception": null,
   "input_path": "__notebook__.ipynb",
   "output_path": "__notebook__.ipynb",
   "parameters": {},
   "start_time": "2022-10-04T18:11:33.600376",
   "version": "2.3.4"
  }
 },
 "nbformat": 4,
 "nbformat_minor": 5
}
